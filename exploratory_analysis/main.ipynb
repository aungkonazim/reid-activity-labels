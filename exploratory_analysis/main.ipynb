{
 "cells": [
  {
   "cell_type": "code",
   "execution_count": 18,
   "metadata": {},
   "outputs": [
    {
     "name": "stderr",
     "output_type": "stream",
     "text": [
      "[Parallel(n_jobs=-1)]: Using backend LokyBackend with 24 concurrent workers.\n",
      "[Parallel(n_jobs=-1)]: Done 216 tasks      | elapsed:    0.8s\n",
      "[Parallel(n_jobs=-1)]: Done 1720 tasks      | elapsed:    2.6s\n",
      "[Parallel(n_jobs=-1)]: Done 3984 tasks      | elapsed:    4.8s\n",
      "[Parallel(n_jobs=-1)]: Done 6904 tasks      | elapsed:    8.2s\n",
      "[Parallel(n_jobs=-1)]: Done 10464 tasks      | elapsed:   12.1s\n",
      "[Parallel(n_jobs=-1)]: Done 14680 tasks      | elapsed:   16.7s\n",
      "[Parallel(n_jobs=-1)]: Done 19536 tasks      | elapsed:   22.0s\n",
      "[Parallel(n_jobs=-1)]: Done 24757 out of 24757 | elapsed:   27.6s finished\n"
     ]
    }
   ],
   "source": [
    "import os\n",
    "import pickle\n",
    "from collections import Counter\n",
    "from datetime import datetime, timedelta\n",
    "from dateutil import parser\n",
    "import numpy as np\n",
    "import pandas as pd\n",
    "from sklearn.preprocessing import OneHotEncoder\n",
    "from joblib import Parallel,delayed\n",
    "import warnings\n",
    "warnings.filterwarnings('ignore')\n",
    "\n",
    "def select_categories(data):\n",
    "    categories = []\n",
    "    for cat in data.category.unique():\n",
    "        if data[data.category==cat].user.unique().shape[0]==data.user.unique().shape[0]:\n",
    "            categories.append(cat)\n",
    "    return categories\n",
    "\n",
    "def remove_nonusers(df):\n",
    "    if df.day.unique().shape[0] < minimum_day_per_user:\n",
    "        return pd.DataFrame([],columns=df.columns)\n",
    "    return df\n",
    "\n",
    "unknown_category = 'Unknown'\n",
    "start_hour = 5\n",
    "end_hour  = 24\n",
    "step = 1\n",
    "one_minute = 60\n",
    "day_minimum_threshold = 120\n",
    "maximum_unknown_percentage = .25\n",
    "minimum_day_per_user = 50\n",
    "\n",
    "data = pickle.load(open('../data/activity_mperf_smartphone.p','rb'))\n",
    "selected_categories = select_categories(data)\n",
    "onehotencoder  = OneHotEncoder().fit(np.array([unknown_category]+selected_categories).reshape(-1,1))\n",
    "category_dict = {a:i for i,a in enumerate(onehotencoder.categories_[0])}\n",
    "data = data[data.category.isin(selected_categories)]\n",
    "data = data.groupby('user',as_index=False).apply(remove_nonusers)\n",
    "\n",
    "def parse_day_data(df):\n",
    "    import warnings\n",
    "    warnings.filterwarnings('ignore')\n",
    "    if df['duration'].sum() < day_minimum_threshold or df['duration'].sum() < (end_hour-start_hour)*one_minute*(1-maximum_unknown_percentage):\n",
    "        return pd.DataFrame([], columns = ['user', 'day', 'data'])\n",
    "    user = df.user.values[0]\n",
    "    day = df.day.values[0]\n",
    "    df = df[(df.start_hour>=start_hour) & (df.start_hour<=end_hour)]\n",
    "    start_time = pd.to_datetime(parser.parse(day))+timedelta(hours=start_hour)\n",
    "    end_time = pd.to_datetime(parser.parse(day))+timedelta(hours=end_hour)\n",
    "    df['start'] = df['start'].apply(lambda a:parser.parse(pd.to_datetime(a).strftime(\"%m/%d/%Y, %H:%M\")))\n",
    "    df['end'] = df['end'].apply(lambda a:parser.parse(pd.to_datetime(a).strftime(\"%m/%d/%Y, %H:%M\")))\n",
    "    df = df.sort_values('start').reset_index(drop=True)\n",
    "    input_data = []\n",
    "    initial = start_time\n",
    "    for i,row in df.iterrows():\n",
    "        if row['start']!=initial:\n",
    "            n = (row['start']-initial).total_seconds()//one_minute\n",
    "            input_data.extend([unknown_category]*int(n))\n",
    "            initial += timedelta(minutes=n)\n",
    "        n = (row['end']-initial).total_seconds()//one_minute\n",
    "        input_data.extend([row['category']]*int(n))\n",
    "        initial += timedelta(minutes=n)\n",
    "    n = (end_time-initial).total_seconds()//one_minute\n",
    "    input_data.extend([unknown_category]*int(n))\n",
    "    \n",
    "    input_data_final = onehotencoder.transform(np.array(input_data).reshape(-1,1)).toarray().reshape(1,-1,len(category_dict))\n",
    "    return pd.DataFrame([[user,day,input_data_final]],columns=['user','day','data'])\n",
    "\n",
    "data_final = pd.concat(Parallel(n_jobs=-1,verbose=2)(delayed(parse_day_data)(df) for i,df in data.groupby(['user','day'],as_index=False)))"
   ]
  },
  {
   "cell_type": "code",
   "execution_count": 19,
   "metadata": {},
   "outputs": [
    {
     "data": {
      "text/plain": [
       "(346,)"
      ]
     },
     "execution_count": 19,
     "metadata": {},
     "output_type": "execute_result"
    }
   ],
   "source": [
    "data_final.user.unique().shape"
   ]
  },
  {
   "cell_type": "code",
   "execution_count": 177,
   "metadata": {},
   "outputs": [],
   "source": [
    "\n",
    "        \n",
    "    \n",
    "    \n",
    "\n",
    "\n",
    "\n"
   ]
  },
  {
   "cell_type": "code",
   "execution_count": 179,
   "metadata": {},
   "outputs": [
    {
     "data": {
      "text/plain": [
       "(1, 1140, 4)"
      ]
     },
     "execution_count": 179,
     "metadata": {},
     "output_type": "execute_result"
    }
   ],
   "source": [
    "\n",
    "# Counter(input_data),len(input_data)"
   ]
  },
  {
   "cell_type": "code",
   "execution_count": 164,
   "metadata": {},
   "outputs": [
    {
     "data": {
      "text/plain": [
       "19.0"
      ]
     },
     "execution_count": 164,
     "metadata": {},
     "output_type": "execute_result"
    }
   ],
   "source": [
    "# df.groupby('category').sum()\n",
    "1140/60"
   ]
  },
  {
   "cell_type": "code",
   "execution_count": 148,
   "metadata": {},
   "outputs": [
    {
     "data": {
      "text/plain": [
       "(array([24024.,  2233., 11453., 61528., 39618., 50533., 68539., 48893.,\n",
       "        24274., 10980.]),\n",
       " array([ 0. ,  2.3,  4.6,  6.9,  9.2, 11.5, 13.8, 16.1, 18.4, 20.7, 23. ]),\n",
       " <BarContainer object of 10 artists>)"
      ]
     },
     "execution_count": 148,
     "metadata": {},
     "output_type": "execute_result"
    },
    {
     "data": {
      "image/png": "[encoded data removed]",
      "text/plain": [
       "<Figure size 432x288 with 1 Axes>"
      ]
     },
     "metadata": {
      "needs_background": "light"
     },
     "output_type": "display_data"
    }
   ],
   "source": [
    "import matplotlib.pyplot as plt\n",
    "plt.hist(data['start_hour'].values)"
   ]
  },
  {
   "cell_type": "code",
   "execution_count": null,
   "metadata": {},
   "outputs": [],
   "source": []
  },
  {
   "cell_type": "code",
   "execution_count": 81,
   "metadata": {},
   "outputs": [
    {
     "data": {
      "text/plain": [
       "356.91209999999995"
      ]
     },
     "execution_count": 81,
     "metadata": {},
     "output_type": "execute_result"
    }
   ],
   "source": [
    "(-start_time).total_seconds()/60"
   ]
  },
  {
   "cell_type": "code",
   "execution_count": 82,
   "metadata": {},
   "outputs": [
    {
     "data": {
      "text/plain": [
       "Timestamp('2017-10-30 09:56:54.726000')"
      ]
     },
     "execution_count": 82,
     "metadata": {},
     "output_type": "execute_result"
    }
   ],
   "source": [
    "pd.to_datetime(df['start'].values[0])"
   ]
  },
  {
   "cell_type": "code",
   "execution_count": 17,
   "metadata": {},
   "outputs": [
    {
     "data": {
      "text/plain": [
       "(346140, 11)"
      ]
     },
     "execution_count": 17,
     "metadata": {},
     "output_type": "execute_result"
    }
   ],
   "source": []
  },
  {
   "cell_type": "code",
   "execution_count": null,
   "metadata": {},
   "outputs": [],
   "source": []
  }
 ],
 "metadata": {
  "interpreter": {
   "hash": "d3478d7a57a816bb90a87ae5814e1e2ae0e09641737eadcd1675279136fb0c7e"
  },
  "kernelspec": {
   "display_name": "Python 3.9.7 64-bit ('pytorch': conda)",
   "language": "python",
   "name": "python3"
  },
  "language_info": {
   "codemirror_mode": {
    "name": "ipython",
    "version": 3
   },
   "file_extension": ".py",
   "mimetype": "text/x-python",
   "name": "python",
   "nbconvert_exporter": "python",
   "pygments_lexer": "ipython3",
   "version": "3.9.7"
  },
  "orig_nbformat": 4
 },
 "nbformat": 4,
 "nbformat_minor": 2
}
